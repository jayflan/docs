{
 "cells": [
  {
   "cell_type": "markdown",
   "id": "74958d11",
   "metadata": {},
   "source": [
    "<div align='right'>\n",
    "    <div>\n",
    "        Jay Flanary\n",
    "    </div>\n",
    "    <div>\n",
    "        February 2023\n",
    "    </div>\n",
    "</div>"
   ]
  },
  {
   "cell_type": "markdown",
   "id": "48ae1e0e",
   "metadata": {},
   "source": [
    "# Title"
   ]
  },
  {
   "cell_type": "markdown",
   "id": "1eb5c761",
   "metadata": {},
   "source": [
    "<p>The goal of this notebook........</p>"
   ]
  },
  {
   "cell_type": "markdown",
   "id": "b38971c6",
   "metadata": {},
   "source": [
    "<text>This notebook shows ???? using the following ???:</text>"
   ]
  },
  {
   "cell_type": "markdown",
   "id": "4ca2653e",
   "metadata": {},
   "source": [
    "<ul>\n",
    "    <li>Item or Function</li>\n",
    "    <li>Item or Function </li>\n",
    "    <li>Item or Function</li>\n",
    "</ul>"
   ]
  },
  {
   "cell_type": "markdown",
   "id": "945fb4a0",
   "metadata": {},
   "source": [
    "## Item or Function"
   ]
  },
  {
   "cell_type": "markdown",
   "id": "0d0d8390",
   "metadata": {},
   "source": [
    "<p>Info for subheading and then any code</p>"
   ]
  },
  {
   "cell_type": "code",
   "execution_count": 1,
   "id": "5eb7b5f9",
   "metadata": {},
   "outputs": [
    {
     "name": "stdout",
     "output_type": "stream",
     "text": [
      "Hello World\n"
     ]
    }
   ],
   "source": [
    "console.log('Hello World');"
   ]
  },
  {
   "cell_type": "markdown",
   "id": "07e19ee2",
   "metadata": {},
   "source": [
    "## Discussion"
   ]
  },
  {
   "attachments": {},
   "cell_type": "markdown",
   "id": "be349bc7",
   "metadata": {},
   "source": [
    "<text>Building this was easier/harder than expected.</text>"
   ]
  },
  {
   "cell_type": "markdown",
   "id": "8c7158eb",
   "metadata": {},
   "source": [
    "</text>"
   ]
  },
  {
   "cell_type": "markdown",
   "id": "265ebae5",
   "metadata": {},
   "source": [
    "<text>There were a few surprises:</text>    "
   ]
  },
  {
   "cell_type": "markdown",
   "id": "f42200c3",
   "metadata": {},
   "source": [
    "<ul>\n",
    "    <li>Item</li>\n",
    "    <li>Item</li>\n",
    "    <li>Item</li>\n",
    "</ul>\n",
    "    "
   ]
  },
  {
   "cell_type": "markdown",
   "id": "b1418af4",
   "metadata": {},
   "source": [
    "<text>A few more remarks:</text>"
   ]
  },
  {
   "cell_type": "markdown",
   "id": "9e039ed5",
   "metadata": {},
   "source": [
    "<ul>\n",
    "    <li>Item</li>\n",
    "    <li>Item</li>\n",
    "    <li>Item</li>\n",
    "</ul>"
   ]
  },
  {
   "cell_type": "code",
   "execution_count": null,
   "id": "f3b8f0dd",
   "metadata": {},
   "outputs": [],
   "source": []
  }
 ],
 "metadata": {
  "kernelspec": {
   "display_name": "JavaScript (Node.js)",
   "language": "javascript",
   "name": "javascript"
  },
  "language_info": {
   "file_extension": ".js",
   "mimetype": "application/javascript",
   "name": "javascript",
   "version": "19.6.0"
  }
 },
 "nbformat": 4,
 "nbformat_minor": 5
}
