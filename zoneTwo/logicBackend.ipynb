{
 "cells": [
  {
   "cell_type": "markdown",
   "id": "74958d11",
   "metadata": {},
   "source": [
    "<div align='right'>\n",
    "    <div>\n",
    "        Jay Flanary\n",
    "    </div>\n",
    "    <div>\n",
    "        February 2023\n",
    "    </div>\n",
    "</div>"
   ]
  },
  {
   "attachments": {},
   "cell_type": "markdown",
   "id": "48ae1e0e",
   "metadata": {},
   "source": [
    "# Gpx Class in the \"logicBackend.js\" file"
   ]
  },
  {
   "attachments": {},
   "cell_type": "markdown",
   "id": "1eb5c761",
   "metadata": {},
   "source": [
    "<p>The primary goal of this notebook explains how the functions or classes in the \"logicBackend.js\" file work for the zoneTwo project.  The heavy hitter is the class that calculates gpx data.  There's a lot to go over!   Each method is broken out below, including the code with quick testing outputs.</p>"
   ]
  },
  {
   "attachments": {},
   "cell_type": "markdown",
   "id": "8691e2a0",
   "metadata": {},
   "source": [
    "<p>\n",
    "  Another goal of this notebook is to explain my thought process, my failures, and how I feel when I succeed!\n",
    "</p>"
   ]
  },
  {
   "attachments": {},
   "cell_type": "markdown",
   "id": "b38971c6",
   "metadata": {},
   "source": [
    "<text>The following sections break out the methods used by the Gpx class. After a .gpx file is sent from the frontend, the Gpx class is invoked after parsing the xml in the .gpx file and \"tee up\" the data before being sent to a database.  The Gpx class uses the following methods:</text>"
   ]
  },
  {
   "attachments": {},
   "cell_type": "markdown",
   "id": "4ca2653e",
   "metadata": {},
   "source": [
    "\n",
    "[distance](#distance)\n",
    "<ul>\n",
    "    <li>createSpeedTrkPtArr</li>\n",
    "    <li>speedAvg</li>\n",
    "    <li>speedMax</li>\n",
    "    <li>tempAvg</li>\n",
    "    <li>hrAvg</li>\n",
    "    <li>hrMax</li>\n",
    "    <li>cadAvg</li>\n",
    "    <li>cadMax</li>\n",
    "    <li>elevation</li>\n",
    "    <li>time</li>\n",
    "    <li>timeTo2Digits</li>\n",
    "    <li>metersToFeet</li>\n",
    "</ul>"
   ]
  },
  {
   "attachments": {},
   "cell_type": "markdown",
   "id": "a5b5a191",
   "metadata": {},
   "source": [
    "## Seed / Testing Data"
   ]
  },
  {
   "attachments": {},
   "cell_type": "markdown",
   "id": "07c238ac",
   "metadata": {},
   "source": [
    "<p>The following is some xml data found in a typical .gpx file to help test the Gpx class code:</p>"
   ]
  },
  {
   "cell_type": "code",
   "execution_count": null,
   "id": "da7a7f85",
   "metadata": {},
   "outputs": [],
   "source": [
    "\n",
    "const fs = require('fs');\n",
    "const xmlData = fs.readFileSync('gpxTestData.gpx', 'utf-8');"
   ]
  },
  {
   "attachments": {},
   "cell_type": "markdown",
   "id": "9cf9b84e",
   "metadata": {},
   "source": [
    "xmlData example:\n"
   ]
  },
  {
   "attachments": {},
   "cell_type": "markdown",
   "id": "685c4fdd",
   "metadata": {},
   "source": [
    "<img src='xmlData.png'></img>"
   ]
  },
  {
   "cell_type": "markdown",
   "id": "c9adf214",
   "metadata": {},
   "source": []
  },
  {
   "cell_type": "markdown",
   "id": "0969bf0c",
   "metadata": {},
   "source": []
  },
  {
   "cell_type": "markdown",
   "id": "1620ec18",
   "metadata": {},
   "source": [
    "## Parsing Test Data"
   ]
  },
  {
   "attachments": {},
   "cell_type": "markdown",
   "id": "59bee07e",
   "metadata": {},
   "source": [
    "<p>The XML data will need to be parsed into a JSON object before the Gpx class can be used.  A parsing function exists in another file (apiFunctions.js) and has documentation in it's own notebook.</p>"
   ]
  },
  {
   "cell_type": "code",
   "execution_count": 2,
   "id": "0e98ba05",
   "metadata": {},
   "outputs": [
    {
     "name": "stdout",
     "output_type": "stream",
     "text": [
      "{\n",
      "  name: 'Morning Mountain Bike Ride',\n",
      "  data: [\n",
      "    {\n",
      "      lat: '28.8059640',\n",
      "      lon: '-81.6282180',\n",
      "      ele: '47.8',\n",
      "      time: '2022-10-22T13:39:41Z',\n",
      "      hr: '109',\n",
      "      cad: undefined,\n",
      "      atemp: undefined\n",
      "    },\n",
      "    {\n",
      "      lat: '28.8059160',\n",
      "      lon: '-81.6281480',\n",
      "      ele: '47.8',\n",
      "      time: '2022-10-22T13:39:45Z',\n",
      "      hr: '113',\n",
      "      cad: undefined,\n",
      "      atemp: undefined\n",
      "    },\n",
      "    {\n",
      "      lat: '28.8059520',\n",
      "      lon: '-81.6281270',\n",
      "      ele: '47.8',\n",
      "      time: '2022-10-22T13:39:47Z',\n",
      "      hr: '113',\n",
      "      cad: undefined,\n",
      "      atemp: undefined\n",
      "    },\n",
      "    {\n",
      "      lat: '28.8059570',\n",
      "      lon: '-81.6281090',\n",
      "      ele: '47.8',\n",
      "      time: '2022-10-22T13:39:49Z',\n",
      "      hr: '113',\n",
      "      cad: undefined,\n",
      "      atemp: undefined\n",
      "    },\n",
      "    {\n",
      "      lat: '28.8059560',\n",
      "      lon: '-81.6280280',\n",
      "      ele: '47.5',\n",
      "      time: '2022-10-22T13:39:51Z',\n",
      "      hr: '123',\n",
      "      cad: undefined,\n",
      "      atemp: undefined\n",
      "    },\n",
      "    {\n",
      "      lat: '28.8059700',\n",
      "      lon: '-81.6280020',\n",
      "      ele: '47.5',\n",
      "      time: '2022-10-22T13:39:52Z',\n",
      "      hr: '123',\n",
      "      cad: undefined,\n",
      "      atemp: undefined\n",
      "    },\n",
      "    {\n",
      "      lat: '28.8059900',\n",
      "      lon: '-81.6279880',\n",
      "      ele: '47.5',\n",
      "      time: '2022-10-22T13:39:54Z',\n",
      "      hr: '123',\n",
      "      cad: undefined,\n",
      "      atemp: undefined\n",
      "    },\n",
      "    {\n",
      "      lat: '28.8060310',\n",
      "      lon: '-81.6279550',\n",
      "      ele: '48.3',\n",
      "      time: '2022-10-22T13:39:57Z',\n",
      "      hr: '125',\n",
      "      cad: undefined,\n",
      "      atemp: undefined\n",
      "    },\n",
      "    {\n",
      "      lat: '28.8060410',\n",
      "      lon: '-81.6279030',\n",
      "      ele: '48.3',\n",
      "      time: '2022-10-22T13:39:59Z',\n",
      "      hr: '133',\n",
      "      cad: undefined,\n",
      "      atemp: undefined\n",
      "    },\n",
      "    {\n",
      "      lat: '28.8060100',\n",
      "      lon: '-81.6278370',\n",
      "      ele: '47.3',\n",
      "      time: '2022-10-22T13:40:02Z',\n",
      "      hr: '133',\n",
      "      cad: undefined,\n",
      "      atemp: undefined\n",
      "    },\n",
      "    {\n",
      "      lat: '28.8059710',\n",
      "      lon: '-81.6277860',\n",
      "      ele: '47.3',\n",
      "      time: '2022-10-22T13:40:04Z',\n",
      "      hr: '133',\n",
      "      cad: undefined,\n",
      "      atemp: undefined\n",
      "    },\n",
      "    {\n",
      "      lat: '28.8059410',\n",
      "      lon: '-81.6277630',\n",
      "      ele: '47.3',\n",
      "      time: '2022-10-22T13:40:05Z',\n",
      "      hr: '133',\n",
      "      cad: undefined,\n",
      "      atemp: undefined\n",
      "    },\n",
      "    {\n",
      "      lat: '28.8059140',\n",
      "      lon: '-81.6277330',\n",
      "      ele: '47.3',\n",
      "      time: '2022-10-22T13:40:06Z',\n",
      "      hr: '133',\n",
      "      cad: undefined,\n",
      "      atemp: undefined\n",
      "    },\n",
      "    {\n",
      "      lat: '28.8058830',\n",
      "      lon: '-81.6277030',\n",
      "      ele: '46.9',\n",
      "      time: '2022-10-22T13:40:07Z',\n",
      "      hr: '133',\n",
      "      cad: undefined,\n",
      "      atemp: undefined\n",
      "    },\n",
      "    {\n",
      "      lat: '28.8058420',\n",
      "      lon: '-81.6276830',\n",
      "      ele: '46.2',\n",
      "      time: '2022-10-22T13:40:08Z',\n",
      "      hr: '133',\n",
      "      cad: undefined,\n",
      "      atemp: undefined\n",
      "    },\n",
      "    {\n",
      "      lat: '28.8058080',\n",
      "      lon: '-81.6276670',\n",
      "      ele: '46.2',\n",
      "      time: '2022-10-22T13:40:09Z',\n",
      "      hr: '133',\n",
      "      cad: undefined,\n",
      "      atemp: undefined\n",
      "    },\n",
      "    {\n",
      "      lat: '28.8057770',\n",
      "      lon: '-81.6276300',\n",
      "      ele: '46.2',\n",
      "      time: '2022-10-22T13:40:10Z',\n",
      "      hr: '133',\n",
      "      cad: undefined,\n",
      "      atemp: undefined\n",
      "    },\n",
      "    {\n",
      "      lat: '28.8057560',\n",
      "      lon: '-81.6275900',\n",
      "      ele: '46.2',\n",
      "      time: '2022-10-22T13:40:11Z',\n",
      "      hr: '133',\n",
      "      cad: undefined,\n",
      "      atemp: undefined\n",
      "    },\n",
      "    {\n",
      "      lat: '28.8057250',\n",
      "      lon: '-81.6275460',\n",
      "      ele: '45.5',\n",
      "      time: '2022-10-22T13:40:12Z',\n",
      "      hr: '133',\n",
      "      cad: undefined,\n",
      "      atemp: undefined\n",
      "    },\n",
      "    {\n",
      "      lat: '28.8056960',\n",
      "      lon: '-81.6275150',\n",
      "      ele: '44.4',\n",
      "      time: '2022-10-22T13:40:13Z',\n",
      "      hr: '133',\n",
      "      cad: undefined,\n",
      "      atemp: undefined\n",
      "    },\n",
      "    {\n",
      "      lat: '28.8056610',\n",
      "      lon: '-81.6274840',\n",
      "      ele: '44.4',\n",
      "      time: '2022-10-22T13:40:14Z',\n",
      "      hr: '133',\n",
      "      cad: undefined,\n",
      "      atemp: undefined\n",
      "    },\n",
      "    {\n",
      "      lat: '28.8056310',\n",
      "      lon: '-81.6274710',\n",
      "      ele: '44.4',\n",
      "      time: '2022-10-22T13:40:15Z',\n",
      "      hr: '133',\n",
      "      cad: undefined,\n",
      "      atemp: undefined\n",
      "    },\n",
      "    {\n",
      "      lat: '28.8056090',\n",
      "      lon: '-81.6274390',\n",
      "      ele: '44.4',\n",
      "      time: '2022-10-22T13:40:16Z',\n",
      "      hr: '133',\n",
      "      cad: undefined,\n",
      "      atemp: undefined\n",
      "    },\n",
      "    {\n",
      "      lat: '28.8055970',\n",
      "      lon: '-81.6273940',\n",
      "      ele: '44.4',\n",
      "      time: '2022-10-22T13:40:17Z',\n",
      "      hr: '133',\n",
      "      cad: undefined,\n",
      "      atemp: undefined\n",
      "    },\n",
      "    {\n",
      "      lat: '28.8055680',\n",
      "      lon: '-81.6273490',\n",
      "      ele: '41.0',\n",
      "      time: '2022-10-22T13:40:18Z',\n",
      "      hr: '133',\n",
      "      cad: undefined,\n",
      "      atemp: undefined\n",
      "    },\n",
      "    {\n",
      "      lat: '28.8055320',\n",
      "      lon: '-81.6273150',\n",
      "      ele: '41.0',\n",
      "      time: '2022-10-22T13:40:19Z',\n",
      "      hr: '133',\n",
      "      cad: undefined,\n",
      "      atemp: undefined\n",
      "    },\n",
      "    {\n",
      "      lat: '28.8055010',\n",
      "      lon: '-81.6272910',\n",
      "      ele: '41.0',\n",
      "      time: '2022-10-22T13:40:20Z',\n",
      "      hr: '133',\n",
      "      cad: undefined,\n",
      "      atemp: undefined\n",
      "    },\n",
      "    {\n",
      "      lat: '28.8054840',\n",
      "      lon: '-81.6272880',\n",
      "      ele: '41.0',\n",
      "      time: '2022-10-22T13:40:21Z',\n",
      "      hr: '133',\n",
      "      cad: undefined,\n",
      "      atemp: undefined\n",
      "    },\n",
      "    {\n",
      "      lat: '28.8054390',\n",
      "      lon: '-81.6272850',\n",
      "      ele: '41.0',\n",
      "      time: '2022-10-22T13:40:23Z',\n",
      "      hr: '133',\n",
      "      cad: undefined,\n",
      "      atemp: undefined\n",
      "    },\n",
      "    {\n",
      "      lat: '28.8054260',\n",
      "      lon: '-81.6272780',\n",
      "      ele: '41.0',\n",
      "      time: '2022-10-22T13:40:24Z',\n",
      "      hr: '133',\n",
      "      cad: undefined,\n",
      "      atemp: undefined\n",
      "    },\n",
      "    {\n",
      "      lat: '28.8054030',\n",
      "      lon: '-81.6272890',\n",
      "      ele: '39.5',\n",
      "      time: '2022-10-22T13:40:26Z',\n",
      "      hr: '133',\n",
      "      cad: undefined,\n",
      "      atemp: undefined\n",
      "    },\n",
      "    {\n",
      "      lat: '28.8053900',\n",
      "      lon: '-81.6272850',\n",
      "      ele: '39.5',\n",
      "      time: '2022-10-22T13:40:29Z',\n",
      "      hr: '133',\n",
      "      cad: undefined,\n",
      "      atemp: undefined\n",
      "    },\n",
      "    {\n",
      "      lat: '28.8054060',\n",
      "      lon: '-81.6272440',\n",
      "      ele: '39.5',\n",
      "      time: '2022-10-22T13:40:31Z',\n",
      "      hr: '133',\n",
      "      cad: undefined,\n",
      "      atemp: undefined\n",
      "    },\n",
      "    {\n",
      "      lat: '28.8054220',\n",
      "      lon: '-81.6272050',\n",
      "      ele: '38.9',\n",
      "      time: '2022-10-22T13:40:33Z',\n",
      "      hr: '133',\n",
      "      cad: undefined,\n",
      "      atemp: undefined\n",
      "    },\n",
      "    {\n",
      "      lat: '28.8053790',\n",
      "      lon: '-81.6271970',\n",
      "      ele: '37.7',\n",
      "      time: '2022-10-22T13:40:36Z',\n",
      "      hr: '133',\n",
      "      cad: undefined,\n",
      "      atemp: undefined\n",
      "    },\n",
      "    {\n",
      "      lat: '28.8053360',\n",
      "      lon: '-81.6272150',\n",
      "      ele: '37.7',\n",
      "      time: '2022-10-22T13:40:38Z',\n",
      "      hr: '133',\n",
      "      cad: undefined,\n",
      "      atemp: undefined\n",
      "    },\n",
      "    {\n",
      "      lat: '28.8052990',\n",
      "      lon: '-81.6272620',\n",
      "      ele: '39.5',\n",
      "      time: '2022-10-22T13:40:40Z',\n",
      "      hr: '133',\n",
      "      cad: undefined,\n",
      "      atemp: undefined\n",
      "    },\n",
      "    {\n",
      "      lat: '28.8052620',\n",
      "      lon: '-81.6272990',\n",
      "      ele: '38.0',\n",
      "      time: '2022-10-22T13:40:42Z',\n",
      "      hr: '133',\n",
      "      cad: undefined,\n",
      "      atemp: undefined\n",
      "    },\n",
      "    {\n",
      "      lat: '28.8052460',\n",
      "      lon: '-81.6273170',\n",
      "      ele: '38.0',\n",
      "      time: '2022-10-22T13:40:43Z',\n",
      "      hr: '133',\n",
      "      cad: undefined,\n",
      "      atemp: undefined\n",
      "    },\n",
      "    {\n",
      "      lat: '28.8052290',\n",
      "      lon: '-81.6273300',\n",
      "      ele: '38.0',\n",
      "      time: '2022-10-22T13:40:45Z',\n",
      "      hr: '133',\n",
      "      cad: undefined,\n",
      "      atemp: undefined\n",
      "    },\n",
      "    {\n",
      "      lat: '28.8051940',\n",
      "      lon: '-81.6273200',\n",
      "      ele: '38.0',\n",
      "      time: '2022-10-22T13:40:49Z',\n",
      "      hr: '133',\n",
      "      cad: undefined,\n",
      "      atemp: undefined\n",
      "    },\n",
      "    {\n",
      "      lat: '28.8051840',\n",
      "      lon: '-81.6272820',\n",
      "      ele: '38.0',\n",
      "      time: '2022-10-22T13:40:51Z',\n",
      "      hr: '133',\n",
      "      cad: undefined,\n",
      "      atemp: undefined\n",
      "    },\n",
      "    {\n",
      "      lat: '28.8051970',\n",
      "      lon: '-81.6272430',\n",
      "      ele: '38.0',\n",
      "      time: '2022-10-22T13:40:53Z',\n",
      "      hr: '133',\n",
      "      cad: undefined,\n",
      "      atemp: undefined\n",
      "    },\n",
      "    {\n",
      "      lat: '28.8052250',\n",
      "      lon: '-81.6271890',\n",
      "      ele: '36.7',\n",
      "      time: '2022-10-22T13:40:55Z',\n",
      "      hr: '133',\n",
      "      cad: undefined,\n",
      "      atemp: undefined\n",
      "    },\n",
      "    {\n",
      "      lat: '28.8052610',\n",
      "      lon: '-81.6271230',\n",
      "      ele: '36.7',\n",
      "      time: '2022-10-22T13:40:57Z',\n",
      "      hr: '133',\n",
      "      cad: undefined,\n",
      "      atemp: undefined\n",
      "    },\n",
      "    {\n",
      "      lat: '28.8052820',\n",
      "      lon: '-81.6271000',\n",
      "      ele: '37.7',\n",
      "      time: '2022-10-22T13:40:58Z',\n",
      "      hr: '133',\n",
      "      cad: undefined,\n",
      "      atemp: undefined\n",
      "    },\n",
      "    {\n",
      "      lat: '28.8053060',\n",
      "      lon: '-81.6270840',\n",
      "      ele: '37.7',\n",
      "      time: '2022-10-22T13:40:59Z',\n",
      "      hr: '133',\n",
      "      cad: undefined,\n",
      "      atemp: undefined\n",
      "    },\n",
      "    {\n",
      "      lat: '28.8053270',\n",
      "      lon: '-81.6270590',\n",
      "      ele: '37.7',\n",
      "      time: '2022-10-22T13:41:00Z',\n",
      "      hr: '133',\n",
      "      cad: undefined,\n",
      "      atemp: undefined\n",
      "    },\n",
      "    {\n",
      "      lat: '28.8053360',\n",
      "      lon: '-81.6270420',\n",
      "      ele: '35.9',\n",
      "      time: '2022-10-22T13:41:01Z',\n",
      "      hr: '133',\n",
      "      cad: undefined,\n",
      "      atemp: undefined\n",
      "    }\n",
      "  ]\n",
      "}\n"
     ]
    }
   ],
   "source": [
    "const { parseGpx } = require('/Users/jflanmacpro/Desktop/projects/web/zoneTwo/server/_api/_apiFunctions');\n",
    "\n",
    "const parsedWorkout = parseGpx(xmlData);\n",
    "console.log(parsedWorkout);"
   ]
  },
  {
   "attachments": {},
   "cell_type": "markdown",
   "id": "945fb4a0",
   "metadata": {},
   "source": [
    "## Gpx Class"
   ]
  },
  {
   "attachments": {},
   "cell_type": "markdown",
   "id": "0d0d8390",
   "metadata": {},
   "source": [
    "<p>Here you'll find the entire Gpx Class, followed by tests for each method using the xml/gpx test data.</p>"
   ]
  },
  {
   "cell_type": "code",
   "execution_count": 3,
   "id": "5eb7b5f9",
   "metadata": {},
   "outputs": [],
   "source": [
    "class Gpx {\n",
    "  constructor(parsedGpxFile) {\n",
    "    this.gpx = parsedGpxFile;\n",
    "  }\n",
    "\n",
    "  createSpeedTrkPtArr(distanceObj, distUnit = 'kilometers') {\n",
    "    const workoutArr = this.gpx.data;\n",
    "    const distArr = distanceObj.distArr;\n",
    "    //edge case of NO trkPts\n",
    "    if(!workoutArr[0].lat) return [];\n",
    "      return distArr.reduce((accum, currTrkPt, Idx) => {\n",
    "        const prevTrkPt = distArr[Idx - 1];\n",
    "        //currTrkPt start is never first index of arr\n",
    "        if(Idx === 0) return accum;\n",
    "        \n",
    "        const prevTime = new Date(prevTrkPt.time).getTime(), currTime = new Date(currTrkPt.time).getTime();\n",
    "        const elapsedSeconds = (currTime - prevTime) / 1000;\n",
    "        const elapsedMinutes = elapsedSeconds / 60;\n",
    "        const elapsedHrs = elapsedMinutes / 60;\n",
    "        \n",
    "        const distanceMeters = currTrkPt.distance;\n",
    "        const speedKph = ((distanceMeters / 1000) / (elapsedHrs)); // in kilometers per hour\n",
    "        const speedMph = speedKph / 1.60934;\n",
    "        \n",
    "        if(distUnit === 'miles') {\n",
    "          accum.push(speedMph);\n",
    "        } else accum.push(speedKph);\n",
    "        return accum;\n",
    "      }, []);\n",
    "  }\n",
    "\n",
    "  speedAvg(speedArr) {\n",
    "    let counterLength = 0;\n",
    "    const speedSum = speedArr.reduce((accum, currElem) => {\n",
    "      if(currElem > 0) {\n",
    "        accum += currElem; \n",
    "        counterLength++\n",
    "      }\n",
    "      return accum;\n",
    "    }, 0);\n",
    "    return Math.round((speedSum / counterLength) * 10 ) / 10;\n",
    "  }\n",
    "\n",
    "  speedMax(speedArr) {\n",
    "    //to be used with instance of speed trackPts\n",
    "    let maxNum = speedArr[0];\n",
    "    speedArr.map((currElem) => {\n",
    "      currElem > maxNum ? maxNum = currElem : \"\"\n",
    "    })\n",
    "    return Math.round(maxNum * 10) / 10;\n",
    "  }\n",
    "\n",
    "  tempAvg() {\n",
    "    const workoutArr = this.gpx.data;\n",
    "    let counterLength = 0;\n",
    "    const tmpSum = workoutArr.reduce((accum, trkPt) => {\n",
    "      if(trkPt.atemp && +trkPt.atemp !== 0) {\n",
    "        accum += +trkPt.atemp;\n",
    "        counterLength++;\n",
    "      }\n",
    "      return accum;\n",
    "    }, 0);\n",
    "    if(!workoutArr[0].atemp) return 0;\n",
    "    return Math.round(tmpSum / counterLength);\n",
    "  }\n",
    "\n",
    "  hrAvg() {\n",
    "    const workoutArr = this.gpx.data;\n",
    "    let counterLength = 0;\n",
    "    const hrSum = workoutArr.reduce((accum, trkPt) => {\n",
    "      if(trkPt.hr && +trkPt.hr !== 0) {\n",
    "        accum = accum + +trkPt.hr;\n",
    "        counterLength++;\n",
    "      }\n",
    "      return accum;\n",
    "    }, 0);\n",
    "    if(!workoutArr[0].hr) return 0;  // return 0 if no hr property exists\n",
    "    return Math.round(hrSum / workoutArr.length);\n",
    "  }\n",
    "\n",
    "  hrMax() {\n",
    "    const workoutArr = this.gpx.data;\n",
    "    return workoutArr.reduce((maxNum, trkPt) => {\n",
    "      const hrNum = +trkPt.hr;\n",
    "      if(hrNum > maxNum) maxNum = hrNum;\n",
    "      return maxNum;\n",
    "    }, 0);\n",
    "  }\n",
    "\n",
    "  cadAvg() {\n",
    "    const workoutArr = this.gpx.data;\n",
    "    let counterLength = 0;\n",
    "    const cadSum = workoutArr.reduce((accum, trkPt) => {\n",
    "      if(trkPt.cad && +trkPt.cad !== 0) {\n",
    "        accum += +trkPt.cad;\n",
    "        counterLength++\n",
    "      }\n",
    "      return accum;\n",
    "    }, 0);\n",
    "    if(!workoutArr[0].cad) return 0;  //return 0 if no cad property exists\n",
    "    return Math.round(cadSum / counterLength)\n",
    "  }\n",
    "\n",
    "  cadMax() {\n",
    "    const workoutArr = this.gpx.data;\n",
    "    return workoutArr.reduce((maxNum, trkPt) => {\n",
    "      const cadNum = +trkPt.cad;\n",
    "      if(cadNum > maxNum) maxNum = cadNum;\n",
    "      return maxNum;\n",
    "    }, 0);\n",
    "  }\n",
    "\n",
    "  distance(unit = 'kilometers') {  // miles or kilometers\n",
    "    //using haversine formula - reference: https://www.movable-type.co.uk/scripts/latlong.html\n",
    "    const data = this.gpx.data;\n",
    "    const DtoR = 0.017453293 // converts degrees to radians: pi/180\n",
    "    \n",
    "    let R = 3956; // radius of earth in miles\n",
    "    if(unit === 'kilometers') R = 6367; // radius of earth in kilometers\n",
    "    \n",
    "    // let resultDist = 0;\n",
    "    let distArr = [], resultObj = {}, resultDist = 0, prevIdx = 0;\n",
    "    if(!data[0]) return {};\n",
    "    if(data[0]) { // happy path\n",
    "\n",
    "    resultDist = data.reduce((accum, currCoords, idx) => {\n",
    "\n",
    "      const currLat = +currCoords.lat, currLon = +currCoords.lon;\n",
    "      const prevLat = +data[prevIdx].lat, prevLon = +data[prevIdx].lon;\n",
    "      const currRLat = currLat * DtoR, currRLon = currLon * DtoR;\n",
    "      const prevRLat = prevLat * DtoR, prevRLon = prevLon * DtoR;  \n",
    "      const dLat = currRLat - prevRLat, dLon = currRLon - prevRLon;\n",
    "\n",
    "      const a = Math.pow(Math.sin(dLat/2),2) \n",
    "        + Math.cos(currRLat) \n",
    "        * Math.cos(prevRLat) \n",
    "        * Math.pow(Math.sin(dLon/2),2);\n",
    "      const c = 2 * Math.atan2(Math.sqrt(a), Math.sqrt(1 - a));\n",
    "      //!Why is each d 'trkpt' NOT > 0, if in R meters?\n",
    "        //!Answer - trkpts are in mi/km, need to 'un-dilute' them\n",
    "      const d = R * c;\n",
    "      let dTrkPt = d; \n",
    "      if(unit === 'kilometers') { // convert from radius to meters\n",
    "        dTrkPt = d * 1000\n",
    "      };\n",
    "\n",
    "      distArr.push({'distance': dTrkPt, 'time': currCoords.time});\n",
    "      accum = accum + d;\n",
    "      prevIdx = idx;\n",
    "      return accum;\n",
    "\n",
    "    },0);\n",
    "  }\n",
    "\n",
    "    resultObj.totalDist = Math.round(resultDist * 10) / 10\n",
    "    resultObj.distArr = distArr; \n",
    "    \n",
    "    return resultObj;\n",
    "  }\n",
    "\n",
    "  elevation(unitMeasure = 'meter') {  // default elev unit is in meters\n",
    "    const workout = this.gpx;\n",
    "    let elevResult = 0;\n",
    "    let prevIdx = 0;\n",
    "    if(workout.data.length > 3) { // happy path \n",
    "      elevResult = workout.data.reduce((accum, trkPt, currIdx) => {\n",
    "        let currElev = +trkPt.ele;\n",
    "        let prevElev = +workout.data[prevIdx].ele;\n",
    "        if(currElev > prevElev) {\n",
    "          const diff = (currElev - prevElev);\n",
    "          accum = diff + accum; // add only pos nums\n",
    "        }\n",
    "        prevIdx = currIdx;\n",
    "        return accum;\n",
    "      }, 0);\n",
    "    } else return 0; \n",
    "    return Math.round(elevResult);\n",
    "  }\n",
    "\n",
    "  time() {\n",
    "    const workoutArr = this.gpx.data;\n",
    "    let startTime = workoutArr[0];\n",
    "    let endTime = workoutArr[workoutArr.length - 1]; \n",
    "    if(!startTime) { // unhappy path\n",
    "      startTime = 0;\n",
    "      endTime = 0;\n",
    "    } else { //happy path\n",
    "      startTime = startTime.time;\n",
    "      endTime = endTime.time;\n",
    "    }\n",
    "    const start = new Date(startTime).getTime();\n",
    "    const end = new Date(endTime).getTime();\n",
    "    let seconds = Math.floor((end - start) / 1000);\n",
    "    let minutes = Math.floor(seconds / 60);\n",
    "    let hours = Math.floor(minutes / 60);\n",
    "\n",
    "    seconds = seconds % 60;\n",
    "    minutes = minutes % 60;\n",
    "\n",
    "    return {\n",
    "      'seconds': this.timeTo2Digits(seconds),\n",
    "      'minutes': this.timeTo2Digits(minutes),\n",
    "      'hours': this.timeTo2Digits(hours),\n",
    "      'totalSecs': (end - start) / 1000\n",
    "    };\n",
    "  }\n",
    "\n",
    "  timeTo2Digits(num) {\n",
    "    return num.toString().padStart(2, '0');\n",
    "  }\n",
    "\n",
    "  metersToFeet(mtrsNum) {\n",
    "    return `${(mtrsNum * 3.2)}`\n",
    "  }\n",
    "\n",
    "}"
   ]
  },
  {
   "cell_type": "code",
   "execution_count": 4,
   "id": "62c1aaef",
   "metadata": {},
   "outputs": [
    {
     "name": "stdout",
     "output_type": "stream",
     "text": [
      "Gpx {\n",
      "  gpx: {\n",
      "    name: 'Morning Mountain Bike Ride',\n",
      "    data: [\n",
      "      [Object], [Object], [Object], [Object],\n",
      "      [Object], [Object], [Object], [Object],\n",
      "      [Object], [Object], [Object], [Object],\n",
      "      [Object], [Object], [Object], [Object],\n",
      "      [Object], [Object], [Object], [Object],\n",
      "      [Object], [Object], [Object], [Object],\n",
      "      [Object], [Object], [Object], [Object],\n",
      "      [Object], [Object], [Object], [Object],\n",
      "      [Object], [Object], [Object], [Object],\n",
      "      [Object], [Object], [Object], [Object],\n",
      "      [Object], [Object], [Object], [Object],\n",
      "      [Object], [Object], [Object], [Object],\n",
      "      [Object]\n",
      "    ]\n",
      "  }\n",
      "}\n"
     ]
    }
   ],
   "source": [
    "const gpxWorkout = new Gpx(parsedWorkout);\n",
    "console.log(gpxWorkout)\n"
   ]
  },
  {
   "attachments": {},
   "cell_type": "markdown",
   "id": "f12136f8",
   "metadata": {},
   "source": [
    "## Method Tests"
   ]
  },
  {
   "attachments": {},
   "cell_type": "markdown",
   "id": "c102f3d3",
   "metadata": {},
   "source": [
    "### distance"
   ]
  },
  {
   "attachments": {},
   "cell_type": "markdown",
   "id": "0202027e",
   "metadata": {},
   "source": [
    "<p>The distance method uses the Haversine formula to calculate the distance between two sets of lon/lat coordinates.  Then providing data for other method calculations</p>"
   ]
  },
  {
   "cell_type": "code",
   "execution_count": 5,
   "id": "f61b9a6b",
   "metadata": {},
   "outputs": [
    {
     "name": "stdout",
     "output_type": "stream",
     "text": [
      "{\n",
      "  totalDist: 0.2,\n",
      "  distArr: [\n",
      "    { distance: 0, time: '2022-10-22T13:39:41Z' },\n",
      "    { distance: 8.655174757792038, time: '2022-10-22T13:39:45Z' },\n",
      "    { distance: 4.492824656211539, time: '2022-10-22T13:39:47Z' },\n",
      "    { distance: 1.8386942753394935, time: '2022-10-22T13:39:49Z' },\n",
      "    { distance: 7.888086114335495, time: '2022-10-22T13:39:51Z' },\n",
      "    { distance: 2.971532250611621, time: '2022-10-22T13:39:52Z' },\n",
      "    { distance: 2.607284518085973, time: '2022-10-22T13:39:54Z' },\n",
      "    { distance: 5.575293631848285, time: '2022-10-22T13:39:57Z' },\n",
      "    { distance: 5.183956627073749, time: '2022-10-22T13:39:59Z' },\n",
      "    { distance: 7.29174182657362, time: '2022-10-22T13:40:02Z' },\n",
      "    { distance: 6.591240028488639, time: '2022-10-22T13:40:04Z' },\n",
      "    { distance: 4.016184931387255, time: '2022-10-22T13:40:05Z' },\n",
      "    { distance: 4.18757928146409, time: '2022-10-22T13:40:06Z' },\n",
      "    { distance: 4.5167183469442715, time: '2022-10-22T13:40:07Z' },\n",
      "    { distance: 4.954897851941412, time: '2022-10-22T13:40:08Z' },\n",
      "    { distance: 4.086872767264944, time: '2022-10-22T13:40:09Z' },\n",
      "    { distance: 4.984746921499726, time: '2022-10-22T13:40:10Z' },\n",
      "    { distance: 4.54055301284515, time: '2022-10-22T13:40:11Z' },\n",
      "    { distance: 5.497624159604297, time: '2022-10-22T13:40:12Z' },\n",
      "    { distance: 4.415575611428427, time: '2022-10-22T13:40:13Z' },\n",
      "    { distance: 4.923337235426538, time: '2022-10-22T13:40:14Z' },\n",
      "    { distance: 3.565996678289805, time: '2022-10-22T13:40:15Z' },\n",
      "    { distance: 3.960575381247231, time: '2022-10-22T13:40:16Z' },\n",
      "    { distance: 4.580265911356535, time: '2022-10-22T13:40:17Z' },\n",
      "    { distance: 5.439296928305658, time: '2022-10-22T13:40:18Z' },\n",
      "    { distance: 5.192782076491812, time: '2022-10-22T13:40:19Z' },\n",
      "    { distance: 4.162776059366552, time: '2022-10-22T13:40:20Z' },\n",
      "    { distance: 1.9115797068559204, time: '2022-10-22T13:40:21Z' },\n",
      "    { distance: 5.009155529033792, time: '2022-10-22T13:40:23Z' },\n",
      "    { distance: 1.5973586438602847, time: '2022-10-22T13:40:24Z' },\n",
      "    { distance: 2.771247114136246, time: '2022-10-22T13:40:26Z' },\n",
      "    { distance: 1.496213517982204, time: '2022-10-22T13:40:29Z' },\n",
      "    { distance: 4.370380984774584, time: '2022-10-22T13:40:31Z' },\n",
      "    { distance: 4.193224814850201, time: '2022-10-22T13:40:33Z' },\n",
      "    { distance: 4.841461760092507, time: '2022-10-22T13:40:36Z' },\n",
      "    { distance: 5.089698181680606, time: '2022-10-22T13:40:38Z' },\n",
      "    { distance: 6.15230592733633, time: '2022-10-22T13:40:40Z' },\n",
      "    { distance: 5.466821414268393, time: '2022-10-22T13:40:42Z' },\n",
      "    { distance: 2.496679552260986, time: '2022-10-22T13:40:43Z' },\n",
      "    { distance: 2.2740345764593464, time: '2022-10-22T13:40:45Z' },\n",
      "    { distance: 4.009420781978919, time: '2022-10-22T13:40:49Z' },\n",
      "    { distance: 3.863506449871867, time: '2022-10-22T13:40:51Z' },\n",
      "    { distance: 4.063108580319053, time: '2022-10-22T13:40:53Z' },\n",
      "    { distance: 6.109872237990489, time: '2022-10-22T13:40:55Z' },\n",
      "    { distance: 7.570136353027692, time: '2022-10-22T13:40:57Z' },\n",
      "    { distance: 3.2344569849529035, time: '2022-10-22T13:40:58Z' },\n",
      "    { distance: 3.0887302685488494, time: '2022-10-22T13:40:59Z' },\n",
      "    { distance: 3.3722342438624047, time: '2022-10-22T13:41:00Z' },\n",
      "    { distance: 1.9340376353525894, time: '2022-10-22T13:41:01Z' }\n",
      "  ]\n",
      "}\n"
     ]
    }
   ],
   "source": [
    "const workoutDistance = gpxWorkout.distance();\n",
    "console.log(workoutDistance);"
   ]
  },
  {
   "attachments": {},
   "cell_type": "markdown",
   "id": "e9b45385",
   "metadata": {},
   "source": [
    "<p></p>"
   ]
  },
  {
   "attachments": {},
   "cell_type": "markdown",
   "id": "41c6b66b",
   "metadata": {},
   "source": [
    "### createSpeedTrkPtArr"
   ]
  },
  {
   "attachments": {},
   "cell_type": "markdown",
   "id": "f13a6646",
   "metadata": {},
   "source": [
    "<p>The createSpeedTrkPtArr creates a iterable array using the distance method output to create the given speed for each point during the workout.  Allowing the \"speed\" related methods to be calculated. (kmh is default measurement) </p>"
   ]
  },
  {
   "cell_type": "code",
   "execution_count": 6,
   "id": "c018c218",
   "metadata": {},
   "outputs": [
    {
     "name": "stdout",
     "output_type": "stream",
     "text": [
      "[\n",
      "   7.789657282012834,  8.087084381180771,  3.309649695611088,\n",
      "  14.198555005803891, 10.697516102201837,  4.693112132554751,\n",
      "   6.690352358217941,  9.331121928732747,  8.750090191888344,\n",
      "   11.86423205127955,  14.45826575299412, 15.075285413270725,\n",
      "  16.260186048999376, 17.837632266989083, 14.712741962153796,\n",
      "  17.945088917399012,  16.34599084624254,  19.79144697457547,\n",
      "  15.896072201142337, 17.724014047535533, 12.837588041843299,\n",
      "  14.258071372490031, 16.488957280883525,  19.58146894190037,\n",
      "  18.694015475370524, 14.985993813719586,  6.881686944681314,\n",
      "   9.016479952260825,  5.750491117897025,  4.988244805445243,\n",
      "  1.7954562215786447,  7.866685772594249, 7.5478046667303635,\n",
      "   5.809754112111008,   9.16145672702509, 11.074150669205393,\n",
      "   9.840278545683107,   8.98804638813955,  4.093262237626823,\n",
      "  3.6084787037810275,   6.95431160976936,  7.313595444574296,\n",
      "  10.997770028382881, 13.626245435449846, 11.644045145830454,\n",
      "  11.119428966775859, 12.140043277904656,  6.962535487269322\n",
      "]\n"
     ]
    }
   ],
   "source": [
    "const workoutSpeed = gpxWorkout.createSpeedTrkPtArr(workoutDistance);\n",
    "console.log(workoutSpeed); "
   ]
  },
  {
   "attachments": {},
   "cell_type": "markdown",
   "id": "99088f09",
   "metadata": {},
   "source": [
    "### speedAvg"
   ]
  },
  {
   "cell_type": "code",
   "execution_count": 7,
   "id": "5caa5353",
   "metadata": {},
   "outputs": [
    {
     "name": "stdout",
     "output_type": "stream",
     "text": [
      "10.9 kmh\n"
     ]
    }
   ],
   "source": [
    "const workoutSpeedAvg = gpxWorkout.speedAvg(workoutSpeed);\n",
    "console.log(`${workoutSpeedAvg} kmh`)"
   ]
  },
  {
   "attachments": {},
   "cell_type": "markdown",
   "id": "0f68194c",
   "metadata": {},
   "source": [
    "### speedMax"
   ]
  },
  {
   "cell_type": "code",
   "execution_count": 8,
   "id": "3293225f",
   "metadata": {},
   "outputs": [
    {
     "name": "stdout",
     "output_type": "stream",
     "text": [
      "19.8\n"
     ]
    }
   ],
   "source": [
    "const workoutSpeedMax = gpxWorkout.speedMax(workoutSpeed);\n",
    "console.log(`${workoutSpeedMax} kmh`);"
   ]
  },
  {
   "attachments": {},
   "cell_type": "markdown",
   "id": "d5f26f98",
   "metadata": {},
   "source": [
    "### tempAvg"
   ]
  },
  {
   "attachments": {},
   "cell_type": "markdown",
   "id": "527d1285",
   "metadata": {},
   "source": [
    "If the parsed .gpx data includes a temperature extension (i.e. <gpxtpx:atemp>28</gpxtpx:atemp>), then the tempAvg method will return an ambient temperature average.  The method returns 0, if the xml code is not included in the parsed .gpx data."
   ]
  },
  {
   "cell_type": "code",
   "execution_count": 9,
   "id": "5ca82d4f",
   "metadata": {},
   "outputs": [
    {
     "name": "stdout",
     "output_type": "stream",
     "text": [
      "0\n"
     ]
    }
   ],
   "source": [
    "const workoutTempAvg = gpxWorkout.tempAvg();\n",
    "console.log(workoutTempAvg);\n"
   ]
  },
  {
   "attachments": {},
   "cell_type": "markdown",
   "id": "866b1be7",
   "metadata": {},
   "source": [
    "### hrAvg\n"
   ]
  },
  {
   "attachments": {},
   "cell_type": "markdown",
   "id": "15b34df0",
   "metadata": {},
   "source": [
    "Similar to the tempAvg method, if a heartrate extenstion is found in the original .gpx file (i.e. <gpxtpx:hr>93</gpxtpx:hr>), then the hrAvg method will return the average for each trackpoint found with the example xml.  (FYI: These types of method averages will NOT include trackpoints that do not have the markdown code, which can happen when data isn't available for every trackpoint)"
   ]
  },
  {
   "cell_type": "code",
   "execution_count": 10,
   "id": "441cd2f1",
   "metadata": {},
   "outputs": [
    {
     "name": "stdout",
     "output_type": "stream",
     "text": [
      "131\n"
     ]
    }
   ],
   "source": [
    "const workoutHearRateAvg = gpxWorkout.hrAvg();\n",
    "console.log(workoutHearRateAvg);"
   ]
  },
  {
   "attachments": {},
   "cell_type": "markdown",
   "id": "d6a01057",
   "metadata": {},
   "source": [
    "### hrMax"
   ]
  },
  {
   "attachments": {},
   "cell_type": "markdown",
   "id": "15118b54",
   "metadata": {},
   "source": [
    "This method calculates the maximum heartrate for the entire workout."
   ]
  },
  {
   "cell_type": "code",
   "execution_count": 11,
   "id": "33c4c010",
   "metadata": {},
   "outputs": [
    {
     "name": "stdout",
     "output_type": "stream",
     "text": [
      "133\n"
     ]
    }
   ],
   "source": [
    "const workoutHeartRateMaximum = gpxWorkout.hrMax();\n",
    "console.log(workoutHeartRateMaximum);"
   ]
  },
  {
   "attachments": {},
   "cell_type": "markdown",
   "id": "1fad7193",
   "metadata": {},
   "source": [
    "### cadAvg"
   ]
  },
  {
   "attachments": {},
   "cell_type": "markdown",
   "id": "288c1569",
   "metadata": {},
   "source": [
    "Measuring a bicycle workout's 'cadence' is done by measuring the number of pedel revolutions per minute.\n",
    "\n",
    "Like the tempAvg and hrAvg methods, this method looks for a 'cad' extension from the original .gpx xml file and calculates the cadence average for trackpoints that have the 'cad' extension. (Returns 0 if no 'cad' data)"
   ]
  },
  {
   "cell_type": "code",
   "execution_count": 12,
   "id": "e7f97f25",
   "metadata": {},
   "outputs": [
    {
     "name": "stdout",
     "output_type": "stream",
     "text": [
      "0 rpm\n"
     ]
    }
   ],
   "source": [
    "const workoutCadenceAvg = gpxWorkout.cadAvg();\n",
    "console.log(`${workoutCadenceAvg} rpm`)"
   ]
  },
  {
   "attachments": {},
   "cell_type": "markdown",
   "id": "0a905f81",
   "metadata": {},
   "source": [
    "### cadMax"
   ]
  },
  {
   "attachments": {},
   "cell_type": "markdown",
   "id": "336667e5",
   "metadata": {},
   "source": [
    "Similar to the hrMax method by capturing the maximum rpm during the workout."
   ]
  },
  {
   "cell_type": "code",
   "execution_count": 13,
   "id": "93b54f2b",
   "metadata": {},
   "outputs": [
    {
     "name": "stdout",
     "output_type": "stream",
     "text": [
      "0 rpm\n"
     ]
    }
   ],
   "source": [
    "const workoutCadenceMax = gpxWorkout.cadMax();\n",
    "console.log(`${workoutCadenceMax} rpm`)"
   ]
  },
  {
   "attachments": {},
   "cell_type": "markdown",
   "id": "ff0ea6c9",
   "metadata": {},
   "source": [
    "### elevation"
   ]
  },
  {
   "attachments": {},
   "cell_type": "markdown",
   "id": "e4398daf",
   "metadata": {},
   "source": [
    "Knowing how much climbing was done during a workout is an important metric.  \"Climbing\" or \"Elevation Gain\" are the terms used to know how many meters/feet one has had to endure during their workout.\n",
    "\n",
    "This method takes each trackpoint, then compares the current point to the next to find if the elevation increased.  Accumulating a total if any elevation change was an increase.\n",
    "\n",
    "NOTE:  Elevation gain can be more complicated then this method's calculation.  Many websites/services use their own proprietary calculations to increase accuracy by attempting to account for other factors such as if one is going up hill WITHOUT measuring a cadence input.  By account not putting in any effort going up hill....etc...  "
   ]
  },
  {
   "cell_type": "code",
   "execution_count": 14,
   "id": "5cef853f",
   "metadata": {},
   "outputs": [
    {
     "name": "stdout",
     "output_type": "stream",
     "text": [
      "4 meters\n"
     ]
    }
   ],
   "source": [
    "const workoutElevationGain = gpxWorkout.elevation();\n",
    "console.log(`${workoutElevationGain} meters`)"
   ]
  },
  {
   "attachments": {},
   "cell_type": "markdown",
   "id": "e1ea7a68",
   "metadata": {},
   "source": [
    "### time"
   ]
  },
  {
   "attachments": {},
   "cell_type": "markdown",
   "id": "b501e162",
   "metadata": {},
   "source": [
    "This method measures the total time accummulated during the workout.  Returning an object for an \"hours : minutes : seconds\" format."
   ]
  },
  {
   "cell_type": "code",
   "execution_count": 15,
   "id": "4a3e8574",
   "metadata": {},
   "outputs": [
    {
     "name": "stdout",
     "output_type": "stream",
     "text": [
      "{ seconds: '20', minutes: '01', hours: '00', totalSecs: 80 }\n"
     ]
    }
   ],
   "source": [
    "const workoutTime = gpxWorkout.time();\n",
    "console.log(workoutTime);"
   ]
  },
  {
   "attachments": {},
   "cell_type": "markdown",
   "id": "0741cb8c",
   "metadata": {},
   "source": [
    "### timeTo2Digits"
   ]
  },
  {
   "attachments": {},
   "cell_type": "markdown",
   "id": "3e963af0",
   "metadata": {},
   "source": [
    "This method is built for the time method to format all time calculations to be only 2 digit spaces.  Please see the time method object output above for reference.\n",
    "\n",
    "A future code refactor may include moving this method into the time method."
   ]
  },
  {
   "attachments": {},
   "cell_type": "markdown",
   "id": "4d848031",
   "metadata": {},
   "source": [
    "### metersToFeet"
   ]
  },
  {
   "attachments": {},
   "cell_type": "markdown",
   "id": "0fdee562",
   "metadata": {},
   "source": [
    "This method has been deprecated.\n",
    "\n",
    "In an effort to allow a user to choose which unit of measurement they desire, this conversion is now being made on the frontend.  The method is still present in case this format needs to be refactored in the future.\n",
    "\n",
    "By default, .gpx/xml data is usually captured using the metric system.  (i.e. kilometers/meters)\n",
    "This method is used when there is the need to convert any meter calcualtions into feet, then allowing to convert other measurements into miles."
   ]
  },
  {
   "attachments": {},
   "cell_type": "markdown",
   "id": "07e19ee2",
   "metadata": {},
   "source": [
    "## Author's Thoughts"
   ]
  },
  {
   "attachments": {},
   "cell_type": "markdown",
   "id": "be349bc7",
   "metadata": {},
   "source": [
    "The Gpx class grew a lot as more needed calculations were added.  Why?  The Gpx class is the backbone of how an xml/gpx file is uploaded from the frontend, then parsed/processed before sending that data to the db.  "
   ]
  },
  {
   "cell_type": "markdown",
   "id": "265ebae5",
   "metadata": {},
   "source": [
    "<text>There were a few surprises:</text>    "
   ]
  },
  {
   "attachments": {},
   "cell_type": "markdown",
   "id": "f42200c3",
   "metadata": {},
   "source": [
    "<ul>\n",
    "    <li>\n",
    "        Elevation calculations are tricky.  For example, I have not been able to tie back my calculations to any gpx file I pull from Strava or from my own cyclometer.  This shows that they are not simply taking the elevation gain between trackpoints, though instead are adding extra calculations in an effort to be even more accurate.\n",
    "    </li>\n",
    "    <div></div>\n",
    "    <li>\n",
    "        Measuring distance is not a cut and dry affair.  The Haversine formula is not the only way to measure distance accounting for the earth's curvature.  Other formulas can be used and are considered better/worse for the type navigation or distances being measured.  Also, I feel knowing a bit more about how global navigation works sticks a fork in the \"Flat Earther\", movement in my opinion.\n",
    "    </li>\n",
    "    <div></div>\n",
    "</ul>\n",
    "    "
   ]
  }
 ],
 "metadata": {
  "kernelspec": {
   "display_name": "JavaScript (Node.js)",
   "language": "javascript",
   "name": "javascript"
  },
  "language_info": {
   "file_extension": ".js",
   "mimetype": "application/javascript",
   "name": "javascript",
   "version": "19.6.0"
  },
  "vscode": {
   "interpreter": {
    "hash": "aee8b7b246df8f9039afb4144a1f6fd8d2ca17a180786b69acc140d282b71a49"
   }
  }
 },
 "nbformat": 4,
 "nbformat_minor": 5
}
